{
 "cells": [
  {
   "cell_type": "code",
   "execution_count": 1,
   "id": "340bc90f",
   "metadata": {},
   "outputs": [
    {
     "ename": "ModuleNotFoundError",
     "evalue": "No module named 'pyccl'",
     "output_type": "error",
     "traceback": [
      "\u001b[1;31m---------------------------------------------------------------------------\u001b[0m",
      "\u001b[1;31mModuleNotFoundError\u001b[0m                       Traceback (most recent call last)",
      "\u001b[1;32m<ipython-input-1-fc1bf1b250ac>\u001b[0m in \u001b[0;36m<module>\u001b[1;34m\u001b[0m\n\u001b[0;32m      6\u001b[0m \u001b[1;32mimport\u001b[0m \u001b[0mpandas\u001b[0m \u001b[1;32mas\u001b[0m \u001b[0mpd\u001b[0m\u001b[1;33m\u001b[0m\u001b[1;33m\u001b[0m\u001b[0m\n\u001b[0;32m      7\u001b[0m \u001b[1;32mimport\u001b[0m \u001b[0mtime\u001b[0m\u001b[1;33m\u001b[0m\u001b[1;33m\u001b[0m\u001b[0m\n\u001b[1;32m----> 8\u001b[1;33m \u001b[1;32mimport\u001b[0m \u001b[0mpyccl\u001b[0m \u001b[1;32mas\u001b[0m \u001b[0mccl\u001b[0m\u001b[1;33m\u001b[0m\u001b[1;33m\u001b[0m\u001b[0m\n\u001b[0m\u001b[0;32m      9\u001b[0m \u001b[0mpd\u001b[0m\u001b[1;33m.\u001b[0m\u001b[0moptions\u001b[0m\u001b[1;33m.\u001b[0m\u001b[0mdisplay\u001b[0m\u001b[1;33m.\u001b[0m\u001b[0mmax_columns\u001b[0m \u001b[1;33m=\u001b[0m \u001b[1;36m500\u001b[0m\u001b[1;33m\u001b[0m\u001b[1;33m\u001b[0m\u001b[0m\n\u001b[0;32m     10\u001b[0m \u001b[1;33m\u001b[0m\u001b[0m\n",
      "\u001b[1;31mModuleNotFoundError\u001b[0m: No module named 'pyccl'"
     ]
    }
   ],
   "source": [
    "from astropy.io import fits\n",
    "import matplotlib.pyplot as plt\n",
    "import numpy as np\n",
    "import os\n",
    "from astropy.table import Table\n",
    "import pandas as pd\n",
    "import time\n",
    "import pyccl as ccl\n",
    "pd.options.display.max_columns = 500\n",
    "\n",
    "import sys\n",
    "#sys.path.append('/Users/Georg022/Documents/Python_scripts/my_python_libs')"
   ]
  },
  {
   "cell_type": "code",
   "execution_count": 2,
   "id": "215d57c4",
   "metadata": {},
   "outputs": [],
   "source": [
    "import matplotlib as mpl\n",
    "mpl.rcParams['font.size'] = 16\n",
    "mpl.rcParams['text.usetex'] = 'True'"
   ]
  },
  {
   "cell_type": "code",
   "execution_count": 3,
   "id": "3804cd96",
   "metadata": {},
   "outputs": [],
   "source": [
    "data = Table.read('./lowz12_v5_short.fits', format='fits').to_pandas()"
   ]
  },
  {
   "cell_type": "code",
   "execution_count": 4,
   "id": "3b12ab17",
   "metadata": {},
   "outputs": [],
   "source": [
    "data = data[data['Z']>0]\n",
    "\n",
    "# Singh+2015 - WMAP9 Cosmology\n",
    "cosmo = ccl.Cosmology(Omega_c = 0.236, Omega_b = 0.046, h = 0.7, sigma8 = 0.817, n_s = 0.9646)\n",
    "\n",
    "data['DA'] = ccl.angular_diameter_distance(cosmo,1/(1+data['Z']))*cosmo['h'] # in Mpc/h"
   ]
  },
  {
   "cell_type": "code",
   "execution_count": 5,
   "id": "9be87ce3",
   "metadata": {},
   "outputs": [
    {
     "data": {
      "text/html": [
       "<div>\n",
       "<style scoped>\n",
       "    .dataframe tbody tr th:only-of-type {\n",
       "        vertical-align: middle;\n",
       "    }\n",
       "\n",
       "    .dataframe tbody tr th {\n",
       "        vertical-align: top;\n",
       "    }\n",
       "\n",
       "    .dataframe thead th {\n",
       "        text-align: right;\n",
       "    }\n",
       "</style>\n",
       "<table border=\"1\" class=\"dataframe\">\n",
       "  <thead>\n",
       "    <tr style=\"text-align: right;\">\n",
       "      <th></th>\n",
       "      <th>RA</th>\n",
       "      <th>DEC</th>\n",
       "      <th>Z</th>\n",
       "      <th>e1</th>\n",
       "      <th>e2</th>\n",
       "      <th>WEIGHT_FKP</th>\n",
       "      <th>WEIGHT_CP</th>\n",
       "      <th>WEIGHT_NOZ</th>\n",
       "      <th>WEIGHT_STAR</th>\n",
       "      <th>WEIGHT_SEEING</th>\n",
       "      <th>WEIGHT_SYSTOT</th>\n",
       "      <th>Mu_ke0</th>\n",
       "      <th>Mg_ke0</th>\n",
       "      <th>Mr_ke0</th>\n",
       "      <th>Mi_ke0</th>\n",
       "      <th>Mz_ke0</th>\n",
       "      <th>DA</th>\n",
       "    </tr>\n",
       "  </thead>\n",
       "  <tbody>\n",
       "    <tr>\n",
       "      <th>0</th>\n",
       "      <td>195.211710</td>\n",
       "      <td>-0.505258</td>\n",
       "      <td>0.345888</td>\n",
       "      <td>0.158104</td>\n",
       "      <td>-0.076799</td>\n",
       "      <td>0.227029</td>\n",
       "      <td>1.0</td>\n",
       "      <td>1.0</td>\n",
       "      <td>1.0</td>\n",
       "      <td>1.0</td>\n",
       "      <td>1.0</td>\n",
       "      <td>-999.000000</td>\n",
       "      <td>-20.884115</td>\n",
       "      <td>-21.622444</td>\n",
       "      <td>-22.054237</td>\n",
       "      <td>-22.444876</td>\n",
       "      <td>710.940051</td>\n",
       "    </tr>\n",
       "    <tr>\n",
       "      <th>1</th>\n",
       "      <td>225.586971</td>\n",
       "      <td>-0.046532</td>\n",
       "      <td>0.332610</td>\n",
       "      <td>0.107626</td>\n",
       "      <td>0.033516</td>\n",
       "      <td>0.226787</td>\n",
       "      <td>1.0</td>\n",
       "      <td>1.0</td>\n",
       "      <td>1.0</td>\n",
       "      <td>1.0</td>\n",
       "      <td>1.0</td>\n",
       "      <td>-19.535934</td>\n",
       "      <td>-20.940083</td>\n",
       "      <td>-21.751516</td>\n",
       "      <td>-22.148893</td>\n",
       "      <td>-22.532366</td>\n",
       "      <td>692.738176</td>\n",
       "    </tr>\n",
       "    <tr>\n",
       "      <th>2</th>\n",
       "      <td>225.513692</td>\n",
       "      <td>-0.190260</td>\n",
       "      <td>0.332531</td>\n",
       "      <td>-0.055152</td>\n",
       "      <td>-0.128687</td>\n",
       "      <td>0.227034</td>\n",
       "      <td>1.0</td>\n",
       "      <td>1.0</td>\n",
       "      <td>1.0</td>\n",
       "      <td>1.0</td>\n",
       "      <td>1.0</td>\n",
       "      <td>-999.000000</td>\n",
       "      <td>-20.736992</td>\n",
       "      <td>-21.573034</td>\n",
       "      <td>-21.956991</td>\n",
       "      <td>-22.253622</td>\n",
       "      <td>692.627276</td>\n",
       "    </tr>\n",
       "    <tr>\n",
       "      <th>3</th>\n",
       "      <td>195.151124</td>\n",
       "      <td>0.357886</td>\n",
       "      <td>0.384936</td>\n",
       "      <td>0.099997</td>\n",
       "      <td>-0.247254</td>\n",
       "      <td>0.304371</td>\n",
       "      <td>1.0</td>\n",
       "      <td>1.0</td>\n",
       "      <td>1.0</td>\n",
       "      <td>1.0</td>\n",
       "      <td>1.0</td>\n",
       "      <td>-999.000000</td>\n",
       "      <td>-21.006050</td>\n",
       "      <td>-21.805061</td>\n",
       "      <td>-22.199631</td>\n",
       "      <td>-22.518621</td>\n",
       "      <td>761.429606</td>\n",
       "    </tr>\n",
       "    <tr>\n",
       "      <th>4</th>\n",
       "      <td>195.095915</td>\n",
       "      <td>-1.063041</td>\n",
       "      <td>0.248512</td>\n",
       "      <td>-0.085485</td>\n",
       "      <td>0.213857</td>\n",
       "      <td>0.236770</td>\n",
       "      <td>1.0</td>\n",
       "      <td>1.0</td>\n",
       "      <td>1.0</td>\n",
       "      <td>1.0</td>\n",
       "      <td>1.0</td>\n",
       "      <td>-18.734627</td>\n",
       "      <td>-21.157776</td>\n",
       "      <td>-21.927965</td>\n",
       "      <td>-22.281872</td>\n",
       "      <td>-22.573008</td>\n",
       "      <td>563.920793</td>\n",
       "    </tr>\n",
       "  </tbody>\n",
       "</table>\n",
       "</div>"
      ],
      "text/plain": [
       "           RA       DEC         Z        e1        e2  WEIGHT_FKP  WEIGHT_CP  \\\n",
       "0  195.211710 -0.505258  0.345888  0.158104 -0.076799    0.227029        1.0   \n",
       "1  225.586971 -0.046532  0.332610  0.107626  0.033516    0.226787        1.0   \n",
       "2  225.513692 -0.190260  0.332531 -0.055152 -0.128687    0.227034        1.0   \n",
       "3  195.151124  0.357886  0.384936  0.099997 -0.247254    0.304371        1.0   \n",
       "4  195.095915 -1.063041  0.248512 -0.085485  0.213857    0.236770        1.0   \n",
       "\n",
       "   WEIGHT_NOZ  WEIGHT_STAR  WEIGHT_SEEING  WEIGHT_SYSTOT      Mu_ke0  \\\n",
       "0         1.0          1.0            1.0            1.0 -999.000000   \n",
       "1         1.0          1.0            1.0            1.0  -19.535934   \n",
       "2         1.0          1.0            1.0            1.0 -999.000000   \n",
       "3         1.0          1.0            1.0            1.0 -999.000000   \n",
       "4         1.0          1.0            1.0            1.0  -18.734627   \n",
       "\n",
       "      Mg_ke0     Mr_ke0     Mi_ke0     Mz_ke0          DA  \n",
       "0 -20.884115 -21.622444 -22.054237 -22.444876  710.940051  \n",
       "1 -20.940083 -21.751516 -22.148893 -22.532366  692.738176  \n",
       "2 -20.736992 -21.573034 -21.956991 -22.253622  692.627276  \n",
       "3 -21.006050 -21.805061 -22.199631 -22.518621  761.429606  \n",
       "4 -21.157776 -21.927965 -22.281872 -22.573008  563.920793  "
      ]
     },
     "execution_count": 5,
     "metadata": {},
     "output_type": "execute_result"
    }
   ],
   "source": [
    "data.head()"
   ]
  },
  {
   "cell_type": "code",
   "execution_count": 6,
   "id": "faf08eb5",
   "metadata": {},
   "outputs": [
    {
     "data": {
      "text/plain": [
       "0.28820986"
      ]
     },
     "execution_count": 6,
     "metadata": {},
     "output_type": "execute_result"
    }
   ],
   "source": [
    "data['Z'].mean()"
   ]
  },
  {
   "cell_type": "code",
   "execution_count": 7,
   "id": "4ee5954c",
   "metadata": {},
   "outputs": [
    {
     "data": {
      "image/png": "[encoded data removed]",
      "text/plain": [
       "<Figure size 432x288 with 1 Axes>"
      ]
     },
     "metadata": {
      "needs_background": "light"
     },
     "output_type": "display_data"
    }
   ],
   "source": [
    "plt.hist(data['Z'], bins=100)\n",
    "plt.xlabel('Redshift')\n",
    "plt.show()"
   ]
  },
  {
   "cell_type": "code",
   "execution_count": 8,
   "id": "50519528",
   "metadata": {},
   "outputs": [
    {
     "name": "stdout",
     "output_type": "stream",
     "text": [
      "Density sample: 249938\n",
      "Shapes sample: 192197\n"
     ]
    }
   ],
   "source": [
    "z_mask = (data['Z']>0.16) &(data['Z']<0.36)\n",
    "e_mask = (data['e1']>-900) & (data['e2']>-900)  & ((data['e1']**2+data['e2']**2)**0.5<2)\n",
    "mr_mask = (data['Mr_ke0']>-900) & (data['Mr_ke0']<-15)\n",
    "mu_mask = (data['Mu_ke0']>-900) & (data['Mu_ke0']<-15)\n",
    "mz_mask = (data['Mz_ke0']>-900) & (data['Mz_ke0']<-15)\n",
    "\n",
    "density = data[z_mask] #& e_mask]# & mr_mask & mu_mask & mz_mask]\n",
    "print('Density sample:',density.shape[0])\n",
    "\n",
    "shapes = data[z_mask & e_mask]# & mr_mask & mu_mask & mz_mask]\n",
    "print('Shapes sample:',shapes.shape[0])"
   ]
  },
  {
   "cell_type": "code",
   "execution_count": 9,
   "id": "e6f89a14",
   "metadata": {},
   "outputs": [
    {
     "data": {
      "image/png": "[encoded data removed]",
      "text/plain": [
       "<Figure size 432x288 with 1 Axes>"
      ]
     },
     "metadata": {
      "needs_background": "light"
     },
     "output_type": "display_data"
    }
   ],
   "source": [
    "plt.hist((shapes['e1']**2+shapes['e2']**2)**0.5, bins=59)\n",
    "plt.xlabel('Ellipticity')\n",
    "plt.show()"
   ]
  },
  {
   "cell_type": "code",
   "execution_count": 10,
   "id": "4a95bdb6",
   "metadata": {},
   "outputs": [
    {
     "data": {
      "text/plain": [
       "0.2745195"
      ]
     },
     "execution_count": 10,
     "metadata": {},
     "output_type": "execute_result"
    }
   ],
   "source": [
    "shapes['Z'].mean()"
   ]
  },
  {
   "cell_type": "code",
   "execution_count": 11,
   "id": "516bafeb",
   "metadata": {},
   "outputs": [
    {
     "data": {
      "image/png": "[encoded data removed]",
      "text/plain": [
       "<Figure size 432x288 with 1 Axes>"
      ]
     },
     "metadata": {
      "needs_background": "light"
     },
     "output_type": "display_data"
    }
   ],
   "source": [
    "plt.hist(shapes['Z'], bins=50, histtype='step')\n",
    "plt.xlabel('Redshift')\n",
    "plt.show()"
   ]
  },
  {
   "cell_type": "code",
   "execution_count": 49,
   "id": "d57288a2",
   "metadata": {},
   "outputs": [
    {
     "name": "stdout",
     "output_type": "stream",
     "text": [
      "Showing edges for the 20% quantiles:\n",
      "[-24.         -22.17016894 -21.94525637 -21.77475133 -21.59251221\n",
      " -20.        ]\n"
     ]
    },
    {
     "data": {
      "image/png": "[encoded data removed]",
      "text/plain": [
       "<Figure size 432x288 with 1 Axes>"
      ]
     },
     "metadata": {
      "needs_background": "light"
     },
     "output_type": "display_data"
    }
   ],
   "source": [
    "from scipy.stats import rv_histogram\n",
    "Mr_hist, bin_edges = np.histogram(shapes['Mr_ke0'], bins=np.linspace(-24, -20, 100))\n",
    "hist_dist = rv_histogram((Mr_hist, bin_edges))\n",
    "\n",
    "N_bins = 5\n",
    "quantiles = np.linspace(0, 1, N_bins+1)\n",
    "Mr_bin_edges = hist_dist.ppf(quantiles)\n",
    "print('Showing edges for the %.0f%% quantiles:'%(100/N_bins))\n",
    "print(Mr_bin_edges)\n",
    "\n",
    "fig, ax = plt.subplots(1,1)\n",
    "ax.hist(shapes['Mr_ke0'], bins=100, histtype='step', density=True)\n",
    "for mr in Mr_bin_edges:\n",
    "    ax.axvline(x=mr)\n",
    "ax.set_xlabel('$M_r$')\n",
    "ax.set_ylabel('Normalized counts')\n",
    "fig.tight_layout()\n",
    "plt.show()"
   ]
  },
  {
   "cell_type": "code",
   "execution_count": 13,
   "id": "22d19b57",
   "metadata": {},
   "outputs": [
    {
     "data": {
      "text/plain": [
       "Text(0, 0.5, '$\\\\langle M_r \\\\rangle$')"
      ]
     },
     "execution_count": 13,
     "metadata": {},
     "output_type": "execute_result"
    },
    {
     "data": {
      "image/png": "[encoded data removed]",
      "text/plain": [
       "<Figure size 432x288 with 1 Axes>"
      ]
     },
     "metadata": {
      "needs_background": "light"
     },
     "output_type": "display_data"
    }
   ],
   "source": [
    "srt_shapes = shapes.sort_values(by='Z')\n",
    "\n",
    "srt_shapes['mean_Mr'] = srt_shapes['Mr_ke0'].rolling(50000).mean()\n",
    "\n",
    "plt.plot(srt_shapes.dropna()['Z'], srt_shapes.dropna()['mean_Mr'])\n",
    "plt.xlabel('Redshift')\n",
    "plt.ylabel(r'$\\langle M_r \\rangle$')"
   ]
  },
  {
   "cell_type": "code",
   "execution_count": 14,
   "id": "766270c5",
   "metadata": {},
   "outputs": [
    {
     "data": {
      "image/png": "[encoded data removed]",
      "text/plain": [
       "<Figure size 432x288 with 1 Axes>"
      ]
     },
     "metadata": {
      "needs_background": "light"
     },
     "output_type": "display_data"
    }
   ],
   "source": [
    "plt.scatter(shapes['RA'], shapes['DEC'])\n",
    "plt.xlabel('RA')\n",
    "plt.ylabel('DEC')\n",
    "plt.axvline(x=280)\n",
    "plt.axvline(x=60)\n",
    "plt.show()"
   ]
  },
  {
   "cell_type": "code",
   "execution_count": 30,
   "id": "52402561",
   "metadata": {},
   "outputs": [],
   "source": [
    "north_shapes = shapes[(shapes['RA']>60) & (shapes['RA']<280)]\n",
    "south_shapes = shapes[(shapes['RA']<60) | (shapes['RA']>280)]\n",
    "\n",
    "north_density = density[(density['RA']>60) & (density['RA']<280)]\n",
    "south_density = density[(density['RA']<60) | (density['RA']>280)]"
   ]
  },
  {
   "cell_type": "code",
   "execution_count": 37,
   "id": "cac577a9",
   "metadata": {},
   "outputs": [
    {
     "data": {
      "image/png": "[encoded data removed]",
      "text/plain": [
       "<Figure size 432x288 with 1 Axes>"
      ]
     },
     "metadata": {
      "needs_background": "light"
     },
     "output_type": "display_data"
    }
   ],
   "source": [
    "plt.scatter(north_shapes['RA'], north_shapes['DEC'])\n",
    "plt.xlabel('RA')\n",
    "plt.ylabel('DEC')\n",
    "plt.show()"
   ]
  },
  {
   "cell_type": "code",
   "execution_count": 38,
   "id": "50641af0",
   "metadata": {},
   "outputs": [
    {
     "data": {
      "image/png": "[encoded data removed]",
      "text/plain": [
       "<Figure size 432x288 with 1 Axes>"
      ]
     },
     "metadata": {
      "needs_background": "light"
     },
     "output_type": "display_data"
    }
   ],
   "source": [
    "plt.scatter(south_shapes['RA'][south_shapes['RA']<100], south_shapes['DEC'][south_shapes['RA']<100], c='C0')\n",
    "plt.scatter(south_shapes['RA'][south_shapes['RA']>100]-360, south_shapes['DEC'][south_shapes['RA']>100], c='C0')\n",
    "plt.xlabel('RA')\n",
    "plt.ylabel('DEC')\n",
    "plt.show()"
   ]
  },
  {
   "cell_type": "code",
   "execution_count": 50,
   "id": "1429f2bb",
   "metadata": {},
   "outputs": [
    {
     "name": "stdout",
     "output_type": "stream",
     "text": [
      "185.55395776068553 28.61957232430468\n"
     ]
    },
    {
     "name": "stderr",
     "output_type": "stream",
     "text": [
      "/var/folders/mq/yzz79x0924l5y9zgs04n8kkr0000gp/T/ipykernel_3193/291557440.py:4: SettingWithCopyWarning: \n",
      "A value is trying to be set on a copy of a slice from a DataFrame.\n",
      "Try using .loc[row_indexer,col_indexer] = value instead\n",
      "\n",
      "See the caveats in the documentation: https://pandas.pydata.org/pandas-docs/stable/user_guide/indexing.html#returning-a-view-versus-a-copy\n",
      "  north_shapes['X'] = np.deg2rad(north_shapes['RA']-RA_cen)*north_shapes['DA']/np.cos(np.deg2rad(north_shapes['DEC']))\n",
      "/var/folders/mq/yzz79x0924l5y9zgs04n8kkr0000gp/T/ipykernel_3193/291557440.py:5: SettingWithCopyWarning: \n",
      "A value is trying to be set on a copy of a slice from a DataFrame.\n",
      "Try using .loc[row_indexer,col_indexer] = value instead\n",
      "\n",
      "See the caveats in the documentation: https://pandas.pydata.org/pandas-docs/stable/user_guide/indexing.html#returning-a-view-versus-a-copy\n",
      "  north_shapes['Y'] = np.deg2rad(north_shapes['DEC']-DEC_cen)*north_shapes['DA']\n",
      "/var/folders/mq/yzz79x0924l5y9zgs04n8kkr0000gp/T/ipykernel_3193/291557440.py:7: SettingWithCopyWarning: \n",
      "A value is trying to be set on a copy of a slice from a DataFrame.\n",
      "Try using .loc[row_indexer,col_indexer] = value instead\n",
      "\n",
      "See the caveats in the documentation: https://pandas.pydata.org/pandas-docs/stable/user_guide/indexing.html#returning-a-view-versus-a-copy\n",
      "  north_density['X'] = np.deg2rad(north_density['RA']-RA_cen)*north_density['DA']/np.cos(np.deg2rad(north_density['DEC']))\n",
      "/var/folders/mq/yzz79x0924l5y9zgs04n8kkr0000gp/T/ipykernel_3193/291557440.py:8: SettingWithCopyWarning: \n",
      "A value is trying to be set on a copy of a slice from a DataFrame.\n",
      "Try using .loc[row_indexer,col_indexer] = value instead\n",
      "\n",
      "See the caveats in the documentation: https://pandas.pydata.org/pandas-docs/stable/user_guide/indexing.html#returning-a-view-versus-a-copy\n",
      "  north_density['Y'] = np.deg2rad(north_density['DEC']-DEC_cen)*north_density['DA']\n"
     ]
    }
   ],
   "source": [
    "RA_cen, DEC_cen = north_shapes['RA'].mean(), north_shapes['DEC'].mean()\n",
    "print(RA_cen, DEC_cen)\n",
    "\n",
    "north_shapes['X'] = np.deg2rad(north_shapes['RA']-RA_cen)*north_shapes['DA']/np.cos(np.deg2rad(north_shapes['DEC']))\n",
    "north_shapes['Y'] = np.deg2rad(north_shapes['DEC']-DEC_cen)*north_shapes['DA']\n",
    "\n",
    "north_density['X'] = np.deg2rad(north_density['RA']-RA_cen)*north_density['DA']/np.cos(np.deg2rad(north_density['DEC']))\n",
    "north_density['Y'] = np.deg2rad(north_density['DEC']-DEC_cen)*north_density['DA']"
   ]
  },
  {
   "cell_type": "code",
   "execution_count": 52,
   "id": "36f0312f",
   "metadata": {},
   "outputs": [
    {
     "name": "stdout",
     "output_type": "stream",
     "text": [
      "0.0 7.336028459665522\n"
     ]
    },
    {
     "name": "stderr",
     "output_type": "stream",
     "text": [
      "/var/folders/mq/yzz79x0924l5y9zgs04n8kkr0000gp/T/ipykernel_3193/604885217.py:4: SettingWithCopyWarning: \n",
      "A value is trying to be set on a copy of a slice from a DataFrame.\n",
      "Try using .loc[row_indexer,col_indexer] = value instead\n",
      "\n",
      "See the caveats in the documentation: https://pandas.pydata.org/pandas-docs/stable/user_guide/indexing.html#returning-a-view-versus-a-copy\n",
      "  south_shapes['X'] = np.deg2rad(south_shapes['RA']-RA_cen)*south_shapes['DA']/np.cos(np.deg2rad(south_shapes['DEC']))\n",
      "/var/folders/mq/yzz79x0924l5y9zgs04n8kkr0000gp/T/ipykernel_3193/604885217.py:5: SettingWithCopyWarning: \n",
      "A value is trying to be set on a copy of a slice from a DataFrame.\n",
      "Try using .loc[row_indexer,col_indexer] = value instead\n",
      "\n",
      "See the caveats in the documentation: https://pandas.pydata.org/pandas-docs/stable/user_guide/indexing.html#returning-a-view-versus-a-copy\n",
      "  south_shapes['Y'] = np.deg2rad(south_shapes['DEC']-DEC_cen)*south_shapes['DA']\n",
      "/var/folders/mq/yzz79x0924l5y9zgs04n8kkr0000gp/T/ipykernel_3193/604885217.py:7: SettingWithCopyWarning: \n",
      "A value is trying to be set on a copy of a slice from a DataFrame.\n",
      "Try using .loc[row_indexer,col_indexer] = value instead\n",
      "\n",
      "See the caveats in the documentation: https://pandas.pydata.org/pandas-docs/stable/user_guide/indexing.html#returning-a-view-versus-a-copy\n",
      "  south_density['X'] = np.deg2rad(south_density['RA']-RA_cen)*south_density['DA']/np.cos(np.deg2rad(south_density['DEC']))\n",
      "/var/folders/mq/yzz79x0924l5y9zgs04n8kkr0000gp/T/ipykernel_3193/604885217.py:8: SettingWithCopyWarning: \n",
      "A value is trying to be set on a copy of a slice from a DataFrame.\n",
      "Try using .loc[row_indexer,col_indexer] = value instead\n",
      "\n",
      "See the caveats in the documentation: https://pandas.pydata.org/pandas-docs/stable/user_guide/indexing.html#returning-a-view-versus-a-copy\n",
      "  south_density['Y'] = np.deg2rad(south_density['DEC']-DEC_cen)*south_density['DA']\n"
     ]
    }
   ],
   "source": [
    "RA_cen, DEC_cen = 0., south_shapes['DEC'].mean()\n",
    "print(RA_cen, DEC_cen)\n",
    "\n",
    "south_shapes['X'] = np.deg2rad(south_shapes['RA']-RA_cen)*south_shapes['DA']/np.cos(np.deg2rad(south_shapes['DEC']))\n",
    "south_shapes['Y'] = np.deg2rad(south_shapes['DEC']-DEC_cen)*south_shapes['DA']\n",
    "\n",
    "south_density['X'] = np.deg2rad(south_density['RA']-RA_cen)*south_density['DA']/np.cos(np.deg2rad(south_density['DEC']))\n",
    "south_density['Y'] = np.deg2rad(south_density['DEC']-DEC_cen)*south_density['DA']"
   ]
  },
  {
   "cell_type": "code",
   "execution_count": 54,
   "id": "c3a84fb0",
   "metadata": {},
   "outputs": [
    {
     "data": {
      "text/plain": [
       "<matplotlib.collections.PathCollection at 0x18301e860>"
      ]
     },
     "execution_count": 54,
     "metadata": {},
     "output_type": "execute_result"
    },
    {
     "data": {
      "image/png": "[encoded data removed]",
      "text/plain": [
       "<Figure size 432x288 with 1 Axes>"
      ]
     },
     "metadata": {
      "needs_background": "light"
     },
     "output_type": "display_data"
    }
   ],
   "source": [
    "plt.scatter(north_shapes['X'], north_shapes['Y'])"
   ]
  },
  {
   "cell_type": "code",
   "execution_count": null,
   "id": "2b5ec7d1",
   "metadata": {},
   "outputs": [],
   "source": []
  },
  {
   "cell_type": "markdown",
   "id": "940026af",
   "metadata": {},
   "source": [
    "# Random catalogues"
   ]
  },
  {
   "cell_type": "code",
   "execution_count": 21,
   "id": "24dcf4e7",
   "metadata": {},
   "outputs": [],
   "source": [
    "randoms_south = Table.read('./random0_DR12v5_LOWZ_South.fits', 1)"
   ]
  },
  {
   "cell_type": "code",
   "execution_count": 22,
   "id": "02f92b4b",
   "metadata": {},
   "outputs": [
    {
     "data": {
      "text/html": [
       "<div><i>Table length=5</i>\n",
       "<table id=\"table6485570320\" class=\"table-striped table-bordered table-condensed\">\n",
       "<thead><tr><th>RA</th><th>DEC</th><th>Z</th><th>WEIGHT_FKP</th><th>NZ</th><th>IPOLY</th><th>ISECT</th><th>SKYFLUX [5]</th><th>IMAGE_DEPTH [5]</th><th>AIRMASS</th><th>EB_MINUS_V</th><th>PSF_FWHM [5]</th><th>ZINDX</th></tr></thead>\n",
       "<thead><tr><th>float64</th><th>float64</th><th>float64</th><th>float64</th><th>float64</th><th>int16</th><th>int16</th><th>float32</th><th>float32</th><th>float32</th><th>float32</th><th>float32</th><th>int32</th></tr></thead>\n",
       "<tr><td>341.64382</td><td>22.744648</td><td>0.3581112027168274</td><td>0.23811082541942596</td><td>0.0003199725179001689</td><td>15622</td><td>9734</td><td>2.7950757 .. 30.28177</td><td>1.2656713 .. 4.0145526</td><td>1.0178019</td><td>0.060833305</td><td>1.2353776 .. 1.0369885</td><td>66726</td></tr>\n",
       "<tr><td>339.98639</td><td>13.279577</td><td>0.3433419466018677</td><td>0.2164953649044037</td><td>0.00036190368700772524</td><td>21871</td><td>5760</td><td>0.8587745 .. 15.871193</td><td>0.7729946 .. 3.0144892</td><td>1.063828</td><td>0.043874122</td><td>1.3340514 .. 1.0729594</td><td>19671</td></tr>\n",
       "<tr><td>358.325043</td><td>22.101216</td><td>0.3340875208377838</td><td>0.20524509251117706</td><td>0.000387222389690578</td><td>15711</td><td>9597</td><td>2.5150497 .. 39.354202</td><td>1.4204803 .. 5.264819</td><td>1.0675305</td><td>0.115435556</td><td>1.4315891 .. 1.1900231</td><td>41578</td></tr>\n",
       "<tr><td>11.080719</td><td>22.798487</td><td>0.10490182787179947</td><td>0.08182866871356964</td><td>0.0011220655869692564</td><td>14473</td><td>10522</td><td>2.1842456 .. 34.199505</td><td>1.8145217 .. 4.9478784</td><td>1.560856</td><td>0.032909337</td><td>1.5567251 .. 1.1655307</td><td>123882</td></tr>\n",
       "<tr><td>359.466067</td><td>16.501436</td><td>0.24671000242233276</td><td>0.2174908071756363</td><td>0.00035978955565951765</td><td>19531</td><td>9901</td><td>1.363769 .. 31.00633</td><td>1.359794 .. 4.995681</td><td>1.286331</td><td>0.03432553</td><td>1.676938 .. 1.2556009</td><td>120063</td></tr>\n",
       "</table></div>"
      ],
      "text/plain": [
       "<Table length=5>\n",
       "    RA        DEC             Z          ...      PSF_FWHM [5]      ZINDX \n",
       " float64    float64        float64       ...        float32         int32 \n",
       "---------- --------- ------------------- ... ---------------------- ------\n",
       " 341.64382 22.744648  0.3581112027168274 ... 1.2353776 .. 1.0369885  66726\n",
       " 339.98639 13.279577  0.3433419466018677 ... 1.3340514 .. 1.0729594  19671\n",
       "358.325043 22.101216  0.3340875208377838 ... 1.4315891 .. 1.1900231  41578\n",
       " 11.080719 22.798487 0.10490182787179947 ... 1.5567251 .. 1.1655307 123882\n",
       "359.466067 16.501436 0.24671000242233276 ...  1.676938 .. 1.2556009 120063"
      ]
     },
     "execution_count": 22,
     "metadata": {},
     "output_type": "execute_result"
    }
   ],
   "source": [
    "randoms_south[:5]"
   ]
  },
  {
   "cell_type": "code",
   "execution_count": 23,
   "id": "abe7b4a9",
   "metadata": {},
   "outputs": [
    {
     "data": {
      "image/png": "[encoded data removed]",
      "text/plain": [
       "<Figure size 432x288 with 1 Axes>"
      ]
     },
     "metadata": {
      "needs_background": "light"
     },
     "output_type": "display_data"
    }
   ],
   "source": [
    "plt.hist(randoms_south['Z'], bins=100, density=True, alpha=0.1)\n",
    "plt.hist(data['Z'], bins=100, density=True, alpha=0.1)\n",
    "plt.show()"
   ]
  },
  {
   "cell_type": "code",
   "execution_count": 24,
   "id": "e0894af8",
   "metadata": {},
   "outputs": [
    {
     "data": {
      "text/html": [
       "<div><i>Table length=5</i>\n",
       "<table id=\"table6487100384\" class=\"table-striped table-bordered table-condensed\">\n",
       "<thead><tr><th>RA</th><th>DEC</th><th>Z</th></tr></thead>\n",
       "<thead><tr><th>float64</th><th>float64</th><th>float64</th></tr></thead>\n",
       "<tr><td>341.64382</td><td>22.744648</td><td>0.3581112027168274</td></tr>\n",
       "<tr><td>339.98639</td><td>13.279577</td><td>0.3433419466018677</td></tr>\n",
       "<tr><td>358.325043</td><td>22.101216</td><td>0.3340875208377838</td></tr>\n",
       "<tr><td>11.080719</td><td>22.798487</td><td>0.10490182787179947</td></tr>\n",
       "<tr><td>359.466067</td><td>16.501436</td><td>0.24671000242233276</td></tr>\n",
       "</table></div>"
      ],
      "text/plain": [
       "<Table length=5>\n",
       "    RA        DEC             Z         \n",
       " float64    float64        float64      \n",
       "---------- --------- -------------------\n",
       " 341.64382 22.744648  0.3581112027168274\n",
       " 339.98639 13.279577  0.3433419466018677\n",
       "358.325043 22.101216  0.3340875208377838\n",
       " 11.080719 22.798487 0.10490182787179947\n",
       "359.466067 16.501436 0.24671000242233276"
      ]
     },
     "execution_count": 24,
     "metadata": {},
     "output_type": "execute_result"
    }
   ],
   "source": [
    "randoms_south[['RA', 'DEC', 'Z']][:5]"
   ]
  },
  {
   "cell_type": "code",
   "execution_count": null,
   "id": "7634608c",
   "metadata": {},
   "outputs": [],
   "source": []
  }
 ],
 "metadata": {
  "kernelspec": {
   "display_name": "Python 3.8.8 ('base')",
   "language": "python",
   "name": "python3"
  },
  "language_info": {
   "codemirror_mode": {
    "name": "ipython",
    "version": 3
   },
   "file_extension": ".py",
   "mimetype": "text/x-python",
   "name": "python",
   "nbconvert_exporter": "python",
   "pygments_lexer": "ipython3",
   "version": "3.8.8"
  },
  "vscode": {
   "interpreter": {
    "hash": "cfb03678a4b72a84f79d97aade200b90337dbb9975703c29a2be990e8a66dde8"
   }
  }
 },
 "nbformat": 4,
 "nbformat_minor": 5
}
