{
 "cells": [
  {
   "cell_type": "code",
   "execution_count": 6,
   "metadata": {},
   "outputs": [],
   "source": [
    "from astropy.io import fits\n",
    "from astropy.table import Table\n",
    "import pandas as pd\n",
    "import numpy as np\n"
   ]
  },
  {
   "cell_type": "markdown",
   "metadata": {},
   "source": [
    "Do complete sample"
   ]
  },
  {
   "cell_type": "code",
   "execution_count": 13,
   "metadata": {},
   "outputs": [],
   "source": [
    "fn_density=r\"data\\north_density.fits\"\n",
    "data_density = Table.read(fn_density, format='fits').to_pandas()\n",
    "\n",
    "fn_shapes=r\"data\\north_shapes.fits\"\n",
    "data_shapes = Table.read(fn_shapes, format='fits').to_pandas()\n",
    "\n",
    "folder=r\"data\\All\"\n"
   ]
  },
  {
   "cell_type": "code",
   "execution_count": null,
   "metadata": {},
   "outputs": [],
   "source": [
    "column_list=['X', 'Y', 'e1', 'e2', 'Z', 'WEIGHT_SEEING']\n",
    "\n",
    "outfn=folder+r\"\\\\north.lenses.dat\"\n",
    "data_density[column_list].to_csv(outfn, index=False, sep=' ')\n",
    "outfn=folder+r\"\\\\north.sources.dat\"\n",
    "data_shapes[column_list].to_csv(outfn, index=False, sep=' ')\n",
    "\n"
   ]
  },
  {
   "cell_type": "code",
   "execution_count": 20,
   "metadata": {},
   "outputs": [
    {
     "name": "stdout",
     "output_type": "stream",
     "text": [
      "data\\All\\\\1.lenses.dat\n",
      "data\\All\\\\2.lenses.dat\n",
      "data\\All\\\\3.lenses.dat\n",
      "data\\All\\\\4.lenses.dat\n"
     ]
    }
   ],
   "source": [
    "N_jn=5\n",
    "\n",
    "for i in range(1, N_jn):\n",
    "    print(\"Processsing\", i, \"of N_jn\")\n",
    "    \n",
    "    mask=data_density['jackknife_ID']==i\n",
    "\n",
    "    outfn=folder+r\"\\\\\"+str(i)+\".lenses.dat\"\n",
    "    column_list=['X', 'Y', 'e1', 'e2', 'Z', 'WEIGHT_SEEING']\n",
    "\n",
    "    data_density[mask][column_list].to_csv(outfn, index=False, sep=' ')\n",
    "\n",
    "    "
   ]
  },
  {
   "cell_type": "code",
   "execution_count": null,
   "metadata": {},
   "outputs": [],
   "source": []
  }
 ],
 "metadata": {
  "kernelspec": {
   "display_name": "Python 3.8.8 ('base')",
   "language": "python",
   "name": "python3"
  },
  "language_info": {
   "codemirror_mode": {
    "name": "ipython",
    "version": 3
   },
   "file_extension": ".py",
   "mimetype": "text/x-python",
   "name": "python",
   "nbconvert_exporter": "python",
   "pygments_lexer": "ipython3",
   "version": "3.8.8"
  },
  "orig_nbformat": 4,
  "vscode": {
   "interpreter": {
    "hash": "cfb03678a4b72a84f79d97aade200b90337dbb9975703c29a2be990e8a66dde8"
   }
  }
 },
 "nbformat": 4,
 "nbformat_minor": 2
}
